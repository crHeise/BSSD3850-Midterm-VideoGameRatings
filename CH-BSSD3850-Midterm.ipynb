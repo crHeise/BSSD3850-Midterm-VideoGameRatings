{
 "cells": [
  {
   "cell_type": "markdown",
   "source": [
    "Programmer: Chris Heise (crheise@icloud.com)\n",
    "School: New Mexico Highlands University\n",
    "Course: BSSD 3850 Data Modeling\n",
    "Instructor: Jonathan Lee\n",
    "Date: 6 October 2022\n",
    "\n",
    "Program: Midterm Project\n",
    "Purpose: Use tensorflow to attempt to determine trends in video game popularity."
   ],
   "metadata": {
    "collapsed": false
   }
  },
  {
   "cell_type": "markdown",
   "source": [
    "# IMDB Video Games"
   ],
   "metadata": {
    "collapsed": false
   }
  },
  {
   "cell_type": "markdown",
   "id": "9101852c",
   "metadata": {},
   "source": [
    "## 1. Define the Problem\n",
    "The purpose of this dataset, as described on [kaggle.com](https://www.kaggle.com/datasets/muhammadadiltalay/imdb-video-games), is to determine trends in popularity of video games based on genre and/or plot.\n",
    "\n",
    "> Is there a relationship between popularity (votes), year, and genre when it comes to a game's rating?\n",
    "\n",
    "#### The data was collected from the following nine genres of video games on IMDB\n",
    "    1. Action\n",
    "    2. Adventure\n",
    "    3. Comedy\n",
    "    4. Crime\n",
    "    5. Family\n",
    "    6. Fantasy\n",
    "    7. Mystery\n",
    "    8. Sci-Fi\n",
    "    9. Thriller\n",
    "\n",
    "- The data contains over 20K titles."
   ]
  },
  {
   "cell_type": "code",
   "execution_count": 1,
   "id": "23321ea6",
   "metadata": {
    "ExecuteTime": {
     "end_time": "2023-07-08T22:17:21.253112Z",
     "start_time": "2023-07-08T22:17:09.758775Z"
    }
   },
   "outputs": [],
   "source": [
    "# Data Analysis\n",
    "import numpy as np\n",
    "import pandas as pd\n",
    "\n",
    "# Machine Learning\n",
    "import sklearn\n",
    "from sklearn.model_selection import train_test_split\n",
    "import tensorflow as tf\n",
    "from keras.utils import to_categorical\n",
    "\n",
    "from ipywidgets import widgets"
   ]
  },
  {
   "cell_type": "markdown",
   "id": "7d1fba31",
   "metadata": {},
   "source": [
    "## 2. Acquire & Inspect the Data"
   ]
  },
  {
   "cell_type": "code",
   "execution_count": 2,
   "id": "576eb900",
   "metadata": {
    "ExecuteTime": {
     "end_time": "2023-07-08T22:17:21.303508Z",
     "start_time": "2023-07-08T22:17:21.253595Z"
    }
   },
   "outputs": [],
   "source": [
    "video_game_data = pd.read_csv('./imdb-videogames.csv')\n",
    "\n",
    "# Here, I copy the data into a separate variable to maintain its integrity\n",
    "df = video_game_data"
   ]
  },
  {
   "cell_type": "code",
   "execution_count": 3,
   "id": "6868bb21",
   "metadata": {
    "ExecuteTime": {
     "end_time": "2023-07-08T22:17:21.315949Z",
     "start_time": "2023-07-08T22:17:21.304894Z"
    }
   },
   "outputs": [
    {
     "data": {
      "text/plain": "   Unnamed: 0                        name  \\\n0           0                  Spider-Man   \n1           1      Red Dead Redemption II   \n2           2          Grand Theft Auto V   \n3           3                  God of War   \n4           4  Uncharted 4: A Thief's End   \n\n                                                 url    year certificate  \\\n0  https://www.imdb.com/title/tt5807780/?ref_=adv...  2018.0           T   \n1  https://www.imdb.com/title/tt6161168/?ref_=adv...  2018.0           M   \n2  https://www.imdb.com/title/tt2103188/?ref_=adv...  2013.0           M   \n3  https://www.imdb.com/title/tt5838588/?ref_=adv...  2018.0           M   \n4  https://www.imdb.com/title/tt3334704/?ref_=adv...  2016.0           T   \n\n   rating   votes                                               plot  Action  \\\n0     9.2  20,759  When a new villain threatens New York City, Pe...    True   \n1     9.7  35,703  Amidst the decline of the Wild West at the tur...    True   \n2     9.5  59,986  Three very different criminals team up for a s...    True   \n3     9.6  26,118  After wiping out the gods of Mount Olympus, Kr...    True   \n4     9.5  28,722  Thrown back into the dangerous underworld he'd...    True   \n\n   Adventure  Comedy  Crime  Family  Fantasy  Mystery  Sci-Fi  Thriller  \n0       True   False  False   False     True    False   False     False  \n1       True   False   True   False    False    False   False     False  \n2      False   False   True   False    False    False   False     False  \n3       True   False  False   False    False    False   False     False  \n4       True   False  False   False    False    False   False     False  ",
      "text/html": "<div>\n<style scoped>\n    .dataframe tbody tr th:only-of-type {\n        vertical-align: middle;\n    }\n\n    .dataframe tbody tr th {\n        vertical-align: top;\n    }\n\n    .dataframe thead th {\n        text-align: right;\n    }\n</style>\n<table border=\"1\" class=\"dataframe\">\n  <thead>\n    <tr style=\"text-align: right;\">\n      <th></th>\n      <th>Unnamed: 0</th>\n      <th>name</th>\n      <th>url</th>\n      <th>year</th>\n      <th>certificate</th>\n      <th>rating</th>\n      <th>votes</th>\n      <th>plot</th>\n      <th>Action</th>\n      <th>Adventure</th>\n      <th>Comedy</th>\n      <th>Crime</th>\n      <th>Family</th>\n      <th>Fantasy</th>\n      <th>Mystery</th>\n      <th>Sci-Fi</th>\n      <th>Thriller</th>\n    </tr>\n  </thead>\n  <tbody>\n    <tr>\n      <th>0</th>\n      <td>0</td>\n      <td>Spider-Man</td>\n      <td>https://www.imdb.com/title/tt5807780/?ref_=adv...</td>\n      <td>2018.0</td>\n      <td>T</td>\n      <td>9.2</td>\n      <td>20,759</td>\n      <td>When a new villain threatens New York City, Pe...</td>\n      <td>True</td>\n      <td>True</td>\n      <td>False</td>\n      <td>False</td>\n      <td>False</td>\n      <td>True</td>\n      <td>False</td>\n      <td>False</td>\n      <td>False</td>\n    </tr>\n    <tr>\n      <th>1</th>\n      <td>1</td>\n      <td>Red Dead Redemption II</td>\n      <td>https://www.imdb.com/title/tt6161168/?ref_=adv...</td>\n      <td>2018.0</td>\n      <td>M</td>\n      <td>9.7</td>\n      <td>35,703</td>\n      <td>Amidst the decline of the Wild West at the tur...</td>\n      <td>True</td>\n      <td>True</td>\n      <td>False</td>\n      <td>True</td>\n      <td>False</td>\n      <td>False</td>\n      <td>False</td>\n      <td>False</td>\n      <td>False</td>\n    </tr>\n    <tr>\n      <th>2</th>\n      <td>2</td>\n      <td>Grand Theft Auto V</td>\n      <td>https://www.imdb.com/title/tt2103188/?ref_=adv...</td>\n      <td>2013.0</td>\n      <td>M</td>\n      <td>9.5</td>\n      <td>59,986</td>\n      <td>Three very different criminals team up for a s...</td>\n      <td>True</td>\n      <td>False</td>\n      <td>False</td>\n      <td>True</td>\n      <td>False</td>\n      <td>False</td>\n      <td>False</td>\n      <td>False</td>\n      <td>False</td>\n    </tr>\n    <tr>\n      <th>3</th>\n      <td>3</td>\n      <td>God of War</td>\n      <td>https://www.imdb.com/title/tt5838588/?ref_=adv...</td>\n      <td>2018.0</td>\n      <td>M</td>\n      <td>9.6</td>\n      <td>26,118</td>\n      <td>After wiping out the gods of Mount Olympus, Kr...</td>\n      <td>True</td>\n      <td>True</td>\n      <td>False</td>\n      <td>False</td>\n      <td>False</td>\n      <td>False</td>\n      <td>False</td>\n      <td>False</td>\n      <td>False</td>\n    </tr>\n    <tr>\n      <th>4</th>\n      <td>4</td>\n      <td>Uncharted 4: A Thief's End</td>\n      <td>https://www.imdb.com/title/tt3334704/?ref_=adv...</td>\n      <td>2016.0</td>\n      <td>T</td>\n      <td>9.5</td>\n      <td>28,722</td>\n      <td>Thrown back into the dangerous underworld he'd...</td>\n      <td>True</td>\n      <td>True</td>\n      <td>False</td>\n      <td>False</td>\n      <td>False</td>\n      <td>False</td>\n      <td>False</td>\n      <td>False</td>\n      <td>False</td>\n    </tr>\n  </tbody>\n</table>\n</div>"
     },
     "execution_count": 3,
     "metadata": {},
     "output_type": "execute_result"
    }
   ],
   "source": [
    "df.head()"
   ]
  },
  {
   "cell_type": "markdown",
   "id": "030e3781",
   "metadata": {},
   "source": [
    "As you can see, the data includes columns that won't be helpful to us. It's also important to check for null/incomplete data."
   ]
  },
  {
   "cell_type": "code",
   "execution_count": 4,
   "id": "ccce3e85",
   "metadata": {
    "ExecuteTime": {
     "end_time": "2023-07-08T22:17:21.320265Z",
     "start_time": "2023-07-08T22:17:21.315407Z"
    }
   },
   "outputs": [
    {
     "name": "stdout",
     "output_type": "stream",
     "text": [
      "<class 'pandas.core.frame.DataFrame'>\n",
      "RangeIndex: 20803 entries, 0 to 20802\n",
      "Data columns (total 17 columns):\n",
      " #   Column       Non-Null Count  Dtype  \n",
      "---  ------       --------------  -----  \n",
      " 0   Unnamed: 0   20803 non-null  int64  \n",
      " 1   name         20803 non-null  object \n",
      " 2   url          20803 non-null  object \n",
      " 3   year         20536 non-null  float64\n",
      " 4   certificate  7903 non-null   object \n",
      " 5   rating       11600 non-null  float64\n",
      " 6   votes        11600 non-null  object \n",
      " 7   plot         20803 non-null  object \n",
      " 8   Action       20803 non-null  bool   \n",
      " 9   Adventure    20803 non-null  bool   \n",
      " 10  Comedy       20803 non-null  bool   \n",
      " 11  Crime        20803 non-null  bool   \n",
      " 12  Family       20803 non-null  bool   \n",
      " 13  Fantasy      20803 non-null  bool   \n",
      " 14  Mystery      20803 non-null  bool   \n",
      " 15  Sci-Fi       20803 non-null  bool   \n",
      " 16  Thriller     20803 non-null  bool   \n",
      "dtypes: bool(9), float64(2), int64(1), object(5)\n",
      "memory usage: 1.4+ MB\n"
     ]
    }
   ],
   "source": [
    "df.info()"
   ]
  },
  {
   "cell_type": "markdown",
   "id": "06fc3746",
   "metadata": {},
   "source": [
    "Certificate (the age rating of the game) is missing too many values to be filled in. The year column is also missing some, but not too much, data. "
   ]
  },
  {
   "cell_type": "markdown",
   "id": "24eb44fe",
   "metadata": {},
   "source": [
    "## 3. Prepare the Data"
   ]
  },
  {
   "cell_type": "markdown",
   "id": "62ca854c",
   "metadata": {},
   "source": [
    "I'll start by dropping any games that are missing ratings, votes or year."
   ]
  },
  {
   "cell_type": "code",
   "execution_count": 5,
   "id": "d78e3c6f",
   "metadata": {
    "ExecuteTime": {
     "end_time": "2023-07-08T22:17:21.345240Z",
     "start_time": "2023-07-08T22:17:21.322368Z"
    }
   },
   "outputs": [],
   "source": [
    "# NN for 'Non-Null'\n",
    "nn_df = df.dropna(subset=['year', 'rating', 'votes'])"
   ]
  },
  {
   "cell_type": "markdown",
   "id": "a712c73a",
   "metadata": {},
   "source": [
    "Next, I remove any columns that don't contain information relative to what I'm attempting to determine."
   ]
  },
  {
   "cell_type": "code",
   "execution_count": 6,
   "id": "b2ab255e",
   "metadata": {
    "ExecuteTime": {
     "end_time": "2023-07-08T22:17:21.345588Z",
     "start_time": "2023-07-08T22:17:21.326939Z"
    }
   },
   "outputs": [],
   "source": [
    "clean_df = nn_df.drop(columns = ['Unnamed: 0', 'name', 'url', 'certificate', 'plot'])"
   ]
  },
  {
   "cell_type": "markdown",
   "id": "51d42a5f",
   "metadata": {},
   "source": [
    "Above, we saw that the votes column was an 'object' not a numeric value like we need. Let's confirm that."
   ]
  },
  {
   "cell_type": "code",
   "execution_count": 7,
   "id": "30325df6",
   "metadata": {
    "ExecuteTime": {
     "end_time": "2023-07-08T22:17:21.362535Z",
     "start_time": "2023-07-08T22:17:21.330090Z"
    }
   },
   "outputs": [
    {
     "name": "stdout",
     "output_type": "stream",
     "text": [
      "<class 'pandas.core.frame.DataFrame'>\n",
      "Index: 11599 entries, 0 to 20791\n",
      "Data columns (total 12 columns):\n",
      " #   Column     Non-Null Count  Dtype  \n",
      "---  ------     --------------  -----  \n",
      " 0   year       11599 non-null  float64\n",
      " 1   rating     11599 non-null  float64\n",
      " 2   votes      11599 non-null  object \n",
      " 3   Action     11599 non-null  bool   \n",
      " 4   Adventure  11599 non-null  bool   \n",
      " 5   Comedy     11599 non-null  bool   \n",
      " 6   Crime      11599 non-null  bool   \n",
      " 7   Family     11599 non-null  bool   \n",
      " 8   Fantasy    11599 non-null  bool   \n",
      " 9   Mystery    11599 non-null  bool   \n",
      " 10  Sci-Fi     11599 non-null  bool   \n",
      " 11  Thriller   11599 non-null  bool   \n",
      "dtypes: bool(9), float64(2), object(1)\n",
      "memory usage: 464.4+ KB\n"
     ]
    }
   ],
   "source": [
    "clean_df.info()"
   ]
  },
  {
   "cell_type": "markdown",
   "id": "3ae0aeba",
   "metadata": {},
   "source": [
    "Below, I convert the data to numeric values. I drop the decimal places from rating to reduce the size of the output. Instead of having ~100 possible ratings (0.0 - 9.9), there will now be 10 (0 - 9). "
   ]
  },
  {
   "cell_type": "code",
   "execution_count": 8,
   "id": "e6b3f580",
   "metadata": {
    "ExecuteTime": {
     "end_time": "2023-07-08T22:17:21.393739Z",
     "start_time": "2023-07-08T22:17:21.338208Z"
    }
   },
   "outputs": [],
   "source": [
    "clean_df['votes'] = clean_df['votes'].str.replace(',', '').astype(np.int64)\n",
    "clean_df['rating'] = clean_df['rating'].astype(np.int64)\n",
    "clean_df['year'] = clean_df['year'].astype(np.int64)\n",
    "clean_df = clean_df.replace([True, False], [0, 1])"
   ]
  },
  {
   "cell_type": "code",
   "execution_count": 9,
   "id": "c985747b",
   "metadata": {
    "ExecuteTime": {
     "end_time": "2023-07-08T22:17:21.394184Z",
     "start_time": "2023-07-08T22:17:21.362412Z"
    }
   },
   "outputs": [
    {
     "data": {
      "text/plain": "   year  rating  votes  Action  Adventure  Comedy  Crime  Family  Fantasy  \\\n0  2018       9  20759       0          0       1      1       1        0   \n1  2018       9  35703       0          0       1      0       1        1   \n2  2013       9  59986       0          1       1      0       1        1   \n3  2018       9  26118       0          0       1      1       1        1   \n4  2016       9  28722       0          0       1      1       1        1   \n\n   Mystery  Sci-Fi  Thriller  \n0        1       1         1  \n1        1       1         1  \n2        1       1         1  \n3        1       1         1  \n4        1       1         1  ",
      "text/html": "<div>\n<style scoped>\n    .dataframe tbody tr th:only-of-type {\n        vertical-align: middle;\n    }\n\n    .dataframe tbody tr th {\n        vertical-align: top;\n    }\n\n    .dataframe thead th {\n        text-align: right;\n    }\n</style>\n<table border=\"1\" class=\"dataframe\">\n  <thead>\n    <tr style=\"text-align: right;\">\n      <th></th>\n      <th>year</th>\n      <th>rating</th>\n      <th>votes</th>\n      <th>Action</th>\n      <th>Adventure</th>\n      <th>Comedy</th>\n      <th>Crime</th>\n      <th>Family</th>\n      <th>Fantasy</th>\n      <th>Mystery</th>\n      <th>Sci-Fi</th>\n      <th>Thriller</th>\n    </tr>\n  </thead>\n  <tbody>\n    <tr>\n      <th>0</th>\n      <td>2018</td>\n      <td>9</td>\n      <td>20759</td>\n      <td>0</td>\n      <td>0</td>\n      <td>1</td>\n      <td>1</td>\n      <td>1</td>\n      <td>0</td>\n      <td>1</td>\n      <td>1</td>\n      <td>1</td>\n    </tr>\n    <tr>\n      <th>1</th>\n      <td>2018</td>\n      <td>9</td>\n      <td>35703</td>\n      <td>0</td>\n      <td>0</td>\n      <td>1</td>\n      <td>0</td>\n      <td>1</td>\n      <td>1</td>\n      <td>1</td>\n      <td>1</td>\n      <td>1</td>\n    </tr>\n    <tr>\n      <th>2</th>\n      <td>2013</td>\n      <td>9</td>\n      <td>59986</td>\n      <td>0</td>\n      <td>1</td>\n      <td>1</td>\n      <td>0</td>\n      <td>1</td>\n      <td>1</td>\n      <td>1</td>\n      <td>1</td>\n      <td>1</td>\n    </tr>\n    <tr>\n      <th>3</th>\n      <td>2018</td>\n      <td>9</td>\n      <td>26118</td>\n      <td>0</td>\n      <td>0</td>\n      <td>1</td>\n      <td>1</td>\n      <td>1</td>\n      <td>1</td>\n      <td>1</td>\n      <td>1</td>\n      <td>1</td>\n    </tr>\n    <tr>\n      <th>4</th>\n      <td>2016</td>\n      <td>9</td>\n      <td>28722</td>\n      <td>0</td>\n      <td>0</td>\n      <td>1</td>\n      <td>1</td>\n      <td>1</td>\n      <td>1</td>\n      <td>1</td>\n      <td>1</td>\n      <td>1</td>\n    </tr>\n  </tbody>\n</table>\n</div>"
     },
     "execution_count": 9,
     "metadata": {},
     "output_type": "execute_result"
    }
   ],
   "source": [
    "clean_df.head()"
   ]
  },
  {
   "cell_type": "markdown",
   "id": "c8b22d71",
   "metadata": {},
   "source": [
    "Finally, I can split the dataset."
   ]
  },
  {
   "cell_type": "code",
   "execution_count": 10,
   "id": "d2f7dae3",
   "metadata": {
    "ExecuteTime": {
     "end_time": "2023-07-08T22:17:21.394298Z",
     "start_time": "2023-07-08T22:17:21.367067Z"
    }
   },
   "outputs": [],
   "source": [
    "labels = clean_df['rating']\n",
    "features = clean_df.drop(columns = ['rating'])"
   ]
  },
  {
   "cell_type": "code",
   "execution_count": 11,
   "id": "ebf673ca",
   "metadata": {
    "ExecuteTime": {
     "end_time": "2023-07-08T22:17:21.428656Z",
     "start_time": "2023-07-08T22:17:21.367483Z"
    }
   },
   "outputs": [],
   "source": [
    "ratio = int(len(labels)*0.7)\n",
    "\n",
    "# Training data (70%)\n",
    "train_feat = np.array(features[:ratio])\n",
    "train_lbls = np.array(labels[:ratio])\n",
    "\n",
    "# Testing data (30%)\n",
    "test_feat = np.array(features[ratio:])\n",
    "test_lbls = np.array(labels[ratio:])"
   ]
  },
  {
   "cell_type": "code",
   "execution_count": 12,
   "id": "5979316d",
   "metadata": {
    "ExecuteTime": {
     "end_time": "2023-07-08T22:17:21.433931Z",
     "start_time": "2023-07-08T22:17:21.367851Z"
    }
   },
   "outputs": [],
   "source": [
    "# One-hot encode the labels\n",
    "train_lbls = to_categorical(train_lbls)\n",
    "test_lbls = to_categorical(test_lbls)"
   ]
  },
  {
   "cell_type": "code",
   "execution_count": 13,
   "id": "175b358a",
   "metadata": {
    "ExecuteTime": {
     "end_time": "2023-07-08T22:17:21.434261Z",
     "start_time": "2023-07-08T22:17:21.370038Z"
    }
   },
   "outputs": [
    {
     "name": "stdout",
     "output_type": "stream",
     "text": [
      "(3480, 11)\n",
      "(3480, 10)\n",
      "(8119, 11)\n",
      "(3480, 10)\n"
     ]
    }
   ],
   "source": [
    "print(test_feat.shape)\n",
    "print(test_lbls.shape)\n",
    "print(train_feat.shape)\n",
    "print(test_lbls.shape)"
   ]
  },
  {
   "cell_type": "code",
   "execution_count": 14,
   "id": "8417c4da",
   "metadata": {
    "ExecuteTime": {
     "end_time": "2023-07-08T22:17:21.434481Z",
     "start_time": "2023-07-08T22:17:21.375312Z"
    }
   },
   "outputs": [
    {
     "data": {
      "text/plain": "array([[0., 0., 0., 0., 0., 0., 1., 0., 0., 0.],\n       [0., 0., 0., 0., 0., 0., 1., 0., 0., 0.],\n       [0., 0., 0., 0., 0., 0., 0., 1., 0., 0.],\n       [0., 0., 0., 0., 0., 0., 0., 0., 1., 0.],\n       [0., 0., 0., 0., 0., 0., 1., 0., 0., 0.]], dtype=float32)"
     },
     "execution_count": 14,
     "metadata": {},
     "output_type": "execute_result"
    }
   ],
   "source": [
    "test_lbls[:5]"
   ]
  },
  {
   "cell_type": "markdown",
   "id": "42325687",
   "metadata": {},
   "source": [
    "## 4. Define & Fit the Model"
   ]
  },
  {
   "cell_type": "code",
   "execution_count": 15,
   "id": "b9c412c8",
   "metadata": {
    "ExecuteTime": {
     "end_time": "2023-07-08T22:17:21.435559Z",
     "start_time": "2023-07-08T22:17:21.378095Z"
    }
   },
   "outputs": [],
   "source": [
    "# I've attempted activations of tanh and relu with various configurations,\n",
    "    # but the best train acc achieved has been ~40%.\n",
    "\n",
    "model = tf.keras.models.Sequential([\n",
    "    tf.keras.layers.Dense(64, activation='tanh'),\n",
    "    tf.keras.layers.Dropout(0.2),\n",
    "    tf.keras.layers.Dense(10)\n",
    "])\n",
    "\n",
    "loss_fn = tf.keras.losses.CategoricalCrossentropy(from_logits=True)\n",
    "model.compile(optimizer='adam',\n",
    "              loss=loss_fn,\n",
    "              metrics=['accuracy'])"
   ]
  },
  {
   "cell_type": "code",
   "execution_count": 16,
   "id": "23a9d33a",
   "metadata": {
    "ExecuteTime": {
     "end_time": "2023-07-08T22:17:22.232721Z",
     "start_time": "2023-07-08T22:17:21.411261Z"
    }
   },
   "outputs": [
    {
     "name": "stdout",
     "output_type": "stream",
     "text": [
      "Epoch 1/5\n",
      "254/254 [==============================] - 0s 507us/step - loss: 1.7129 - accuracy: 0.3404\n",
      "Epoch 2/5\n",
      "254/254 [==============================] - 0s 495us/step - loss: 1.5714 - accuracy: 0.3568\n",
      "Epoch 3/5\n",
      "254/254 [==============================] - 0s 490us/step - loss: 1.5411 - accuracy: 0.3734\n",
      "Epoch 4/5\n",
      "254/254 [==============================] - 0s 489us/step - loss: 1.5205 - accuracy: 0.3763\n",
      "Epoch 5/5\n",
      "254/254 [==============================] - 0s 490us/step - loss: 1.5034 - accuracy: 0.3838\n"
     ]
    },
    {
     "data": {
      "text/plain": "<keras.src.callbacks.History at 0x281f80350>"
     },
     "execution_count": 16,
     "metadata": {},
     "output_type": "execute_result"
    }
   ],
   "source": [
    "e = 5\n",
    "\n",
    "model.fit(train_feat, train_lbls, epochs=e)"
   ]
  },
  {
   "cell_type": "code",
   "execution_count": 17,
   "id": "1197619d",
   "metadata": {
    "ExecuteTime": {
     "end_time": "2023-07-08T22:17:22.339650Z",
     "start_time": "2023-07-08T22:17:22.234275Z"
    }
   },
   "outputs": [
    {
     "name": "stdout",
     "output_type": "stream",
     "text": [
      "109/109 - 0s - loss: 1.5349 - accuracy: 0.3796 - 88ms/epoch - 811us/step\n"
     ]
    },
    {
     "data": {
      "text/plain": "[1.534890055656433, 0.3795976936817169]"
     },
     "execution_count": 17,
     "metadata": {},
     "output_type": "execute_result"
    }
   ],
   "source": [
    "model.evaluate(test_feat, test_lbls, verbose=2)"
   ]
  },
  {
   "cell_type": "code",
   "execution_count": 18,
   "id": "9cf4dc29",
   "metadata": {
    "ExecuteTime": {
     "end_time": "2023-07-08T22:17:22.346120Z",
     "start_time": "2023-07-08T22:17:22.339155Z"
    }
   },
   "outputs": [
    {
     "name": "stdout",
     "output_type": "stream",
     "text": [
      "tf.Tensor(\n",
      "[[-5.4576254 -2.0109565 -1.7652036 -0.5239869  0.421166   1.3896167\n",
      "   2.5748694  3.1871047  2.3275402 -1.2031752]], shape=(1, 10), dtype=float32)\n",
      "[-5.4576254 -2.0109565 -1.7652036 -0.5239869  0.421166   1.3896167\n",
      "  2.5748694  3.1871047  2.3275402 -1.2031752]\n",
      "[0. 0. 0. 0. 0. 0. 1. 0. 0. 0.] [7]\n"
     ]
    }
   ],
   "source": [
    "predictions = model(test_feat[:1])\n",
    "print(predictions)\n",
    "predictions = predictions.numpy()[0]\n",
    "print(predictions)\n",
    "max_pred = np.amax(predictions)\n",
    "print(test_lbls[0], np.where(predictions == max_pred)[0])"
   ]
  },
  {
   "cell_type": "markdown",
   "id": "dccb2982",
   "metadata": {},
   "source": [
    "**Observation:** it appears there either isn't enough data to make make accurate ratings prediction, or there isn't any correlation between a game's rating and its genres and year released. I personally believe it's the latter of the two. "
   ]
  },
  {
   "cell_type": "markdown",
   "id": "6ed1f5af",
   "metadata": {},
   "source": [
    "## 5. Predict on a Custom Video Game"
   ]
  },
  {
   "cell_type": "code",
   "execution_count": 19,
   "id": "d6e1ae9b",
   "metadata": {
    "ExecuteTime": {
     "end_time": "2023-07-08T22:17:22.349637Z",
     "start_time": "2023-07-08T22:17:22.348002Z"
    }
   },
   "outputs": [],
   "source": [
    "# Helper function\n",
    "def convert_genres(genres):\n",
    "    oh = []\n",
    "    \n",
    "    if 'Action' in genres:\n",
    "        oh.append(1)\n",
    "    else:\n",
    "        oh.append(0)        \n",
    "    if 'Adventure' in genres:\n",
    "        oh.append(1)\n",
    "    else:\n",
    "        oh.append(0)        \n",
    "    if 'Comedy' in genres:\n",
    "        oh.append(1)\n",
    "    else:\n",
    "        oh.append(0)        \n",
    "    if 'Crime' in genres:\n",
    "        oh.append(1)\n",
    "    else:\n",
    "        oh.append(0)        \n",
    "    if 'Family' in genres:\n",
    "        oh.append(1)\n",
    "    else:\n",
    "        oh.append(0)        \n",
    "    if 'Fantasy' in genres:\n",
    "        oh.append(1)\n",
    "    else:\n",
    "        oh.append(0)    \n",
    "    if 'Mystery' in genres:\n",
    "        oh.append(1)\n",
    "    else:\n",
    "        oh.append(0)    \n",
    "    if 'Sci-Fi' in genres:\n",
    "        oh.append(1)\n",
    "    else:\n",
    "        oh.append(0)        \n",
    "    if 'Thriller' in genres:\n",
    "        oh.append(1)\n",
    "    else:\n",
    "        oh.append(0)\n",
    "    \n",
    "    return oh"
   ]
  },
  {
   "cell_type": "code",
   "execution_count": 20,
   "id": "376d102e",
   "metadata": {
    "ExecuteTime": {
     "end_time": "2023-07-08T22:17:22.352828Z",
     "start_time": "2023-07-08T22:17:22.351484Z"
    }
   },
   "outputs": [],
   "source": [
    "def predict_rating(button):\n",
    "    # Get data from user\n",
    "    year = year_select.value\n",
    "    votes = votes_select.value\n",
    "    genres = genre_select.value    \n",
    "    oh_genres = convert_genres(genres)\n",
    "\n",
    "    # Make list of the data\n",
    "    usr_choices = []\n",
    "    usr_choices.append(year)\n",
    "    usr_choices.append(votes)\n",
    "    for genre in oh_genres:\n",
    "        usr_choices.append(genre)\n",
    "    length = [1, ]\n",
    "    \n",
    "    # Convert data and make prediction\n",
    "    length = np.array(length)\n",
    "    usr_game = np.array(usr_choices)\n",
    "    \n",
    "    usr_game = np.array([length, usr_game], dtype=object)\n",
    "    usr_game = usr_game = usr_game.astype(np.int64)\n",
    "    usr_game = tf.convert_to_tensor(usr_game)\n",
    "    \n",
    "    prediction = model(usr_game)\n",
    "    max_pred = np.amax(predictions)\n",
    "    \n",
    "    print(test_lbls[0], np.where(predictions == max_pred)[0])"
   ]
  },
  {
   "cell_type": "code",
   "execution_count": 21,
   "id": "388a7d62",
   "metadata": {
    "ExecuteTime": {
     "end_time": "2023-07-08T22:17:22.389595Z",
     "start_time": "2023-07-08T22:17:22.356743Z"
    }
   },
   "outputs": [
    {
     "data": {
      "text/plain": "IntSlider(value=2022, continuous_update=False, description='Year:', max=2072, min=1972)",
      "application/vnd.jupyter.widget-view+json": {
       "version_major": 2,
       "version_minor": 0,
       "model_id": "9aa34a593cee46c493261201527c6589"
      }
     },
     "metadata": {},
     "output_type": "display_data"
    },
    {
     "data": {
      "text/plain": "IntSlider(value=25000, description='Votes:', max=65000, min=5, step=1000)",
      "application/vnd.jupyter.widget-view+json": {
       "version_major": 2,
       "version_minor": 0,
       "model_id": "becc17211d2a43d98cb91063c2f94f26"
      }
     },
     "metadata": {},
     "output_type": "display_data"
    },
    {
     "data": {
      "text/plain": "SelectMultiple(description='Genres', index=(0,), options=('Action', 'Adventure', 'Comedy', 'Crime', 'Family', …",
      "application/vnd.jupyter.widget-view+json": {
       "version_major": 2,
       "version_minor": 0,
       "model_id": "a7aad11df43e4b4b9bc6508fb2f48760"
      }
     },
     "metadata": {},
     "output_type": "display_data"
    },
    {
     "data": {
      "text/plain": "Button(description='Predict Game Rating', style=ButtonStyle(), tooltip='Click to Predict Game Rating')",
      "application/vnd.jupyter.widget-view+json": {
       "version_major": 2,
       "version_minor": 0,
       "model_id": "026e4bd345e5469da519f746bd4285d7"
      }
     },
     "metadata": {},
     "output_type": "display_data"
    }
   ],
   "source": [
    "year_select = widgets.IntSlider(\n",
    "    value=2022,\n",
    "    min=1972,\n",
    "    max=2072,\n",
    "    step=1,\n",
    "    description='Year:',\n",
    "    disabled=False,\n",
    "    continuous_update=False,\n",
    "    orientation='horizontal',\n",
    "    readout=True\n",
    ")\n",
    "\n",
    "votes_select = widgets.IntSlider(\n",
    "    value=25000,\n",
    "    min=5,\n",
    "    max=65000,\n",
    "    step=1000,\n",
    "    description='Votes:',\n",
    "    disabled=False,\n",
    "    orientation='horizontal',\n",
    "    readout=True\n",
    ")\n",
    "\n",
    "genre_select = widgets.SelectMultiple(\n",
    "    options=['Action', 'Adventure', 'Comedy', 'Crime', 'Family', 'Fantasy', 'Mystery', 'Sci-Fi', 'Thriller'],\n",
    "    value=['Action'],\n",
    "    description='Genres',\n",
    "    disabled=False\n",
    ")\n",
    "\n",
    "predict_button = widgets.Button(\n",
    "    description='Predict Game Rating',\n",
    "    disabled=False,\n",
    "    tooltip='Click to Predict Game Rating',\n",
    ")\n",
    "predict_button.on_click(predict_rating)\n",
    "\n",
    "display(year_select, votes_select, genre_select, predict_button)\n"
   ]
  }
 ],
 "metadata": {
  "kernelspec": {
   "display_name": "Python 3 (ipykernel)",
   "language": "python",
   "name": "python3"
  },
  "language_info": {
   "codemirror_mode": {
    "name": "ipython",
    "version": 3
   },
   "file_extension": ".py",
   "mimetype": "text/x-python",
   "name": "python",
   "nbconvert_exporter": "python",
   "pygments_lexer": "ipython3",
   "version": "3.9.13"
  },
  "varInspector": {
   "cols": {
    "lenName": 16,
    "lenType": 16,
    "lenVar": 40
   },
   "kernels_config": {
    "python": {
     "delete_cmd_postfix": "",
     "delete_cmd_prefix": "del ",
     "library": "var_list.py",
     "varRefreshCmd": "print(var_dic_list())"
    },
    "r": {
     "delete_cmd_postfix": ") ",
     "delete_cmd_prefix": "rm(",
     "library": "var_list.r",
     "varRefreshCmd": "cat(var_dic_list()) "
    }
   },
   "types_to_exclude": [
    "module",
    "function",
    "builtin_function_or_method",
    "instance",
    "_Feature"
   ],
   "window_display": false
  }
 },
 "nbformat": 4,
 "nbformat_minor": 5
}
